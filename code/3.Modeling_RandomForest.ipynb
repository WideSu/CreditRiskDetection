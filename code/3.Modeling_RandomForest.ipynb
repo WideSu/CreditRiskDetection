{
  "cells": [
    {
      "cell_type": "code",
      "execution_count": 4,
      "metadata": {
        "id": "98BaAjCyI5DV"
      },
      "outputs": [],
      "source": [
        "from FeatureEngineering import *\n",
        "from sklearn.metrics import precision_score, accuracy_score\n",
        "from sklearn.tree import DecisionTreeClassifier\n",
        "from sklearn.metrics import plot_confusion_matrix\n",
        "import warnings\n",
        "warnings.filterwarnings('ignore')"
      ]
    },
    {
      "cell_type": "code",
      "execution_count": 15,
      "metadata": {
        "id": "Bi5tB5MmI5DZ"
      },
      "outputs": [],
      "source": [
        "train_data = my_read_csv('train_data.csv')\n",
        "test_data = my_read_csv('test_data.csv')"
      ]
    },
    {
      "cell_type": "code",
      "execution_count": 16,
      "metadata": {
        "id": "Di5Qp8gvI5Da"
      },
      "outputs": [],
      "source": [
        "X_train,y_train = train_data.loc[:,train_data.columns != 'TARGET'],train_data.loc[:,['TARGET']]\n",
        "X_test,y_test = test_data.loc[:,test_data.columns != 'TARGET'],test_data.loc[:,['TARGET']]"
      ]
    },
    {
      "cell_type": "code",
      "execution_count": 17,
      "metadata": {
        "id": "AzAjkmKiI5DZ"
      },
      "outputs": [],
      "source": [
        "X = pd.concat([X_train, X_test])\n",
        "y = pd.concat([y_train, y_test])"
      ]
    },
    {
      "cell_type": "code",
      "source": [
        "train_data.isnull().sum().sum()"
      ],
      "metadata": {
        "colab": {
          "base_uri": "https://localhost:8080/"
        },
        "id": "FD7TLcUfJeMT",
        "outputId": "83ef50f2-85fa-4ae8-964b-cac164c09e09"
      },
      "execution_count": 18,
      "outputs": [
        {
          "output_type": "execute_result",
          "data": {
            "text/plain": [
              "0"
            ]
          },
          "metadata": {},
          "execution_count": 18
        }
      ]
    },
    {
      "cell_type": "code",
      "execution_count": null,
      "metadata": {
        "id": "spEouvzcI5Da"
      },
      "outputs": [],
      "source": [
        "# X_train"
      ]
    },
    {
      "cell_type": "code",
      "execution_count": 19,
      "metadata": {
        "id": "8-mRmYTTI5Dd"
      },
      "outputs": [],
      "source": [
        "def evaluate(estimator, X_test, y_test, X_train, y_train):\n",
        "    y_pre_train = estimator.predict(X_train)\n",
        "    recall_train = recall_score(y_train, y_pre_train)\n",
        "    precision_train = precision_score(y_train, y_pre_train)\n",
        "    y_pre_test = estimator.predict(X_test)\n",
        "    recall_test = recall_score(y_test, y_pre_test)\n",
        "    y_pre_prob_train = estimator.predict_proba(X_train)[:, 1]\n",
        "    roc_auc_train = roc_auc_score(y_train, y_pre_prob_train)\n",
        "    acc_train = accuracy_score(y_train, y_pre_train)\n",
        "    y_pre_prob_test = estimator.predict_proba(X_test)[:, 1]\n",
        "    precision_test = precision_score(y_test, y_pre_test)\n",
        "    acc_test = accuracy_score(y_test, y_pre_test)\n",
        "    roc_auc_test = roc_auc_score(y_test, y_pre_prob_test)\n",
        "    train_ev_list = [recall_train, precision_train, roc_auc_train,acc_train]\n",
        "    test_ev_list = [recall_test,precision_test,roc_auc_test,acc_test]\n",
        "    ev_df = pd.DataFrame(data = [train_ev_list, test_ev_list], index=['Train','Test'], columns = ['Recall score','Precision','Roc-auc score','Accuracy']).T\n",
        "    plot_confusion_matrix(clf, X_test, y_test)\n",
        "    return ev_df.round(4)\n",
        "\n"
      ]
    },
    {
      "cell_type": "markdown",
      "metadata": {
        "id": "WE8NW10OI5Db"
      },
      "source": [
        "The evaluation matrix for Decision Tree"
      ]
    },
    {
      "cell_type": "code",
      "execution_count": 20,
      "metadata": {
        "colab": {
          "base_uri": "https://localhost:8080/",
          "height": 437
        },
        "id": "oqmYU1G_I5Dc",
        "outputId": "5e56bbe2-94ef-4054-b728-fd41ed7ee587"
      },
      "outputs": [
        {
          "output_type": "execute_result",
          "data": {
            "text/plain": [
              "               Train    Test\n",
              "Recall score     1.0  0.8140\n",
              "Precision        1.0  0.7848\n",
              "Roc-auc score    1.0  0.8981\n",
              "Accuracy         1.0  0.9700"
            ],
            "text/html": [
              "\n",
              "  <div id=\"df-81312800-5cc7-4a49-b4d1-5247da9365ba\">\n",
              "    <div class=\"colab-df-container\">\n",
              "      <div>\n",
              "<style scoped>\n",
              "    .dataframe tbody tr th:only-of-type {\n",
              "        vertical-align: middle;\n",
              "    }\n",
              "\n",
              "    .dataframe tbody tr th {\n",
              "        vertical-align: top;\n",
              "    }\n",
              "\n",
              "    .dataframe thead th {\n",
              "        text-align: right;\n",
              "    }\n",
              "</style>\n",
              "<table border=\"1\" class=\"dataframe\">\n",
              "  <thead>\n",
              "    <tr style=\"text-align: right;\">\n",
              "      <th></th>\n",
              "      <th>Train</th>\n",
              "      <th>Test</th>\n",
              "    </tr>\n",
              "  </thead>\n",
              "  <tbody>\n",
              "    <tr>\n",
              "      <th>Recall score</th>\n",
              "      <td>1.0</td>\n",
              "      <td>0.8140</td>\n",
              "    </tr>\n",
              "    <tr>\n",
              "      <th>Precision</th>\n",
              "      <td>1.0</td>\n",
              "      <td>0.7848</td>\n",
              "    </tr>\n",
              "    <tr>\n",
              "      <th>Roc-auc score</th>\n",
              "      <td>1.0</td>\n",
              "      <td>0.8981</td>\n",
              "    </tr>\n",
              "    <tr>\n",
              "      <th>Accuracy</th>\n",
              "      <td>1.0</td>\n",
              "      <td>0.9700</td>\n",
              "    </tr>\n",
              "  </tbody>\n",
              "</table>\n",
              "</div>\n",
              "      <button class=\"colab-df-convert\" onclick=\"convertToInteractive('df-81312800-5cc7-4a49-b4d1-5247da9365ba')\"\n",
              "              title=\"Convert this dataframe to an interactive table.\"\n",
              "              style=\"display:none;\">\n",
              "        \n",
              "  <svg xmlns=\"http://www.w3.org/2000/svg\" height=\"24px\"viewBox=\"0 0 24 24\"\n",
              "       width=\"24px\">\n",
              "    <path d=\"M0 0h24v24H0V0z\" fill=\"none\"/>\n",
              "    <path d=\"M18.56 5.44l.94 2.06.94-2.06 2.06-.94-2.06-.94-.94-2.06-.94 2.06-2.06.94zm-11 1L8.5 8.5l.94-2.06 2.06-.94-2.06-.94L8.5 2.5l-.94 2.06-2.06.94zm10 10l.94 2.06.94-2.06 2.06-.94-2.06-.94-.94-2.06-.94 2.06-2.06.94z\"/><path d=\"M17.41 7.96l-1.37-1.37c-.4-.4-.92-.59-1.43-.59-.52 0-1.04.2-1.43.59L10.3 9.45l-7.72 7.72c-.78.78-.78 2.05 0 2.83L4 21.41c.39.39.9.59 1.41.59.51 0 1.02-.2 1.41-.59l7.78-7.78 2.81-2.81c.8-.78.8-2.07 0-2.86zM5.41 20L4 18.59l7.72-7.72 1.47 1.35L5.41 20z\"/>\n",
              "  </svg>\n",
              "      </button>\n",
              "      \n",
              "  <style>\n",
              "    .colab-df-container {\n",
              "      display:flex;\n",
              "      flex-wrap:wrap;\n",
              "      gap: 12px;\n",
              "    }\n",
              "\n",
              "    .colab-df-convert {\n",
              "      background-color: #E8F0FE;\n",
              "      border: none;\n",
              "      border-radius: 50%;\n",
              "      cursor: pointer;\n",
              "      display: none;\n",
              "      fill: #1967D2;\n",
              "      height: 32px;\n",
              "      padding: 0 0 0 0;\n",
              "      width: 32px;\n",
              "    }\n",
              "\n",
              "    .colab-df-convert:hover {\n",
              "      background-color: #E2EBFA;\n",
              "      box-shadow: 0px 1px 2px rgba(60, 64, 67, 0.3), 0px 1px 3px 1px rgba(60, 64, 67, 0.15);\n",
              "      fill: #174EA6;\n",
              "    }\n",
              "\n",
              "    [theme=dark] .colab-df-convert {\n",
              "      background-color: #3B4455;\n",
              "      fill: #D2E3FC;\n",
              "    }\n",
              "\n",
              "    [theme=dark] .colab-df-convert:hover {\n",
              "      background-color: #434B5C;\n",
              "      box-shadow: 0px 1px 3px 1px rgba(0, 0, 0, 0.15);\n",
              "      filter: drop-shadow(0px 1px 2px rgba(0, 0, 0, 0.3));\n",
              "      fill: #FFFFFF;\n",
              "    }\n",
              "  </style>\n",
              "\n",
              "      <script>\n",
              "        const buttonEl =\n",
              "          document.querySelector('#df-81312800-5cc7-4a49-b4d1-5247da9365ba button.colab-df-convert');\n",
              "        buttonEl.style.display =\n",
              "          google.colab.kernel.accessAllowed ? 'block' : 'none';\n",
              "\n",
              "        async function convertToInteractive(key) {\n",
              "          const element = document.querySelector('#df-81312800-5cc7-4a49-b4d1-5247da9365ba');\n",
              "          const dataTable =\n",
              "            await google.colab.kernel.invokeFunction('convertToInteractive',\n",
              "                                                     [key], {});\n",
              "          if (!dataTable) return;\n",
              "\n",
              "          const docLinkHtml = 'Like what you see? Visit the ' +\n",
              "            '<a target=\"_blank\" href=https://colab.research.google.com/notebooks/data_table.ipynb>data table notebook</a>'\n",
              "            + ' to learn more about interactive tables.';\n",
              "          element.innerHTML = '';\n",
              "          dataTable['output_type'] = 'display_data';\n",
              "          await google.colab.output.renderOutput(dataTable, element);\n",
              "          const docLink = document.createElement('div');\n",
              "          docLink.innerHTML = docLinkHtml;\n",
              "          element.appendChild(docLink);\n",
              "        }\n",
              "      </script>\n",
              "    </div>\n",
              "  </div>\n",
              "  "
            ]
          },
          "metadata": {},
          "execution_count": 20
        },
        {
          "output_type": "display_data",
          "data": {
            "text/plain": [
              "<Figure size 432x288 with 2 Axes>"
            ],
            "image/png": "[encoded data removed]"
          },
          "metadata": {
            "needs_background": "light"
          }
        }
      ],
      "source": [
        "clf = DecisionTreeClassifier(random_state=0)\n",
        "clf.fit(X_train, y_train)\n",
        "evaluate(clf, X_test, y_test, X_train, y_train)"
      ]
    },
    {
      "cell_type": "markdown",
      "metadata": {
        "id": "CFJOuk_AI5De"
      },
      "source": [
        "As we can see, radom forest has lower variance than Decision tree."
      ]
    },
    {
      "cell_type": "markdown",
      "source": [
        "## Tune Decision Tree"
      ],
      "metadata": {
        "id": "IliVTRTqaZrg"
      }
    },
    {
      "cell_type": "code",
      "source": [
        "val_recall = []\n",
        "train_recall = []\n",
        "tree_depths = []\n",
        "\n",
        "for depth in range(20,100,10):\n",
        "    tree_clf = DecisionTreeClassifier(max_depth=depth)\n",
        "    tree_clf.fit(X_train,y_train)\n",
        "    y_training_pred = tree_clf.predict(X_train)\n",
        "\n",
        "    training_acc = accuracy_score(y_train,y_training_pred)\n",
        "    train_recall = recall_score(y_train, y_training_pred)\n",
        "    y_test_pred = tree_clf.predict(X_test)\n",
        "    test_val_recall = recall_score(y_test, y_test_pred)\n",
        "    train_val_recall = recall_score(y_train, y_training_pred)\n",
        "    val_recall.append(test_val_recall)\n",
        "    tree_depths.append(depth)\n",
        "    \n",
        "\n",
        "Tuning_Max_depth = {'Train Recall': train_recall,\"Validation Recall\":val_recall, \"Max_Depth\": tree_depths }\n",
        "Tuning_Max_depth_df = pd.DataFrame.from_dict(Tuning_Max_depth)\n",
        "\n",
        "plot_df = Tuning_Max_depth_df.melt('Max_Depth',var_name='Metrics',value_name=\"Values\")\n",
        "fig,ax = plt.subplots(figsize=(15,5))\n",
        "plt.title('Recall Rate change through max_depth for Decision Tree')\n",
        "sns.pointplot(x=\"Max_Depth\", y=\"Values\",hue=\"Metrics\", data=plot_df,ax=ax)"
      ],
      "metadata": {
        "colab": {
          "base_uri": "https://localhost:8080/",
          "height": 369
        },
        "id": "_nXg0C33YDTL",
        "outputId": "4b29efe3-f0ec-4d72-82b0-7f67d69f08bd"
      },
      "execution_count": 74,
      "outputs": [
        {
          "output_type": "execute_result",
          "data": {
            "text/plain": [
              "<matplotlib.axes._subplots.AxesSubplot at 0x7f51863cdb50>"
            ]
          },
          "metadata": {},
          "execution_count": 74
        },
        {
          "output_type": "display_data",
          "data": {
            "text/plain": [
              "<Figure size 1080x360 with 1 Axes>"
            ],
            "image/png": "[encoded data removed]"
          },
          "metadata": {
            "needs_background": "light"
          }
        }
      ]
    },
    {
      "cell_type": "code",
      "execution_count": 21,
      "metadata": {
        "colab": {
          "base_uri": "https://localhost:8080/",
          "height": 437
        },
        "id": "AEo8wWGjI5Df",
        "outputId": "23cd09de-ff66-4a9b-b114-438467a24340"
      },
      "outputs": [
        {
          "output_type": "execute_result",
          "data": {
            "text/plain": [
              "               Train    Test\n",
              "Recall score     1.0  0.7907\n",
              "Precision        1.0  1.0000\n",
              "Roc-auc score    1.0  0.9856\n",
              "Accuracy         1.0  0.9847"
            ],
            "text/html": [
              "\n",
              "  <div id=\"df-fb196703-e657-407a-8b28-923fc907f92d\">\n",
              "    <div class=\"colab-df-container\">\n",
              "      <div>\n",
              "<style scoped>\n",
              "    .dataframe tbody tr th:only-of-type {\n",
              "        vertical-align: middle;\n",
              "    }\n",
              "\n",
              "    .dataframe tbody tr th {\n",
              "        vertical-align: top;\n",
              "    }\n",
              "\n",
              "    .dataframe thead th {\n",
              "        text-align: right;\n",
              "    }\n",
              "</style>\n",
              "<table border=\"1\" class=\"dataframe\">\n",
              "  <thead>\n",
              "    <tr style=\"text-align: right;\">\n",
              "      <th></th>\n",
              "      <th>Train</th>\n",
              "      <th>Test</th>\n",
              "    </tr>\n",
              "  </thead>\n",
              "  <tbody>\n",
              "    <tr>\n",
              "      <th>Recall score</th>\n",
              "      <td>1.0</td>\n",
              "      <td>0.7907</td>\n",
              "    </tr>\n",
              "    <tr>\n",
              "      <th>Precision</th>\n",
              "      <td>1.0</td>\n",
              "      <td>1.0000</td>\n",
              "    </tr>\n",
              "    <tr>\n",
              "      <th>Roc-auc score</th>\n",
              "      <td>1.0</td>\n",
              "      <td>0.9856</td>\n",
              "    </tr>\n",
              "    <tr>\n",
              "      <th>Accuracy</th>\n",
              "      <td>1.0</td>\n",
              "      <td>0.9847</td>\n",
              "    </tr>\n",
              "  </tbody>\n",
              "</table>\n",
              "</div>\n",
              "      <button class=\"colab-df-convert\" onclick=\"convertToInteractive('df-fb196703-e657-407a-8b28-923fc907f92d')\"\n",
              "              title=\"Convert this dataframe to an interactive table.\"\n",
              "              style=\"display:none;\">\n",
              "        \n",
              "  <svg xmlns=\"http://www.w3.org/2000/svg\" height=\"24px\"viewBox=\"0 0 24 24\"\n",
              "       width=\"24px\">\n",
              "    <path d=\"M0 0h24v24H0V0z\" fill=\"none\"/>\n",
              "    <path d=\"M18.56 5.44l.94 2.06.94-2.06 2.06-.94-2.06-.94-.94-2.06-.94 2.06-2.06.94zm-11 1L8.5 8.5l.94-2.06 2.06-.94-2.06-.94L8.5 2.5l-.94 2.06-2.06.94zm10 10l.94 2.06.94-2.06 2.06-.94-2.06-.94-.94-2.06-.94 2.06-2.06.94z\"/><path d=\"M17.41 7.96l-1.37-1.37c-.4-.4-.92-.59-1.43-.59-.52 0-1.04.2-1.43.59L10.3 9.45l-7.72 7.72c-.78.78-.78 2.05 0 2.83L4 21.41c.39.39.9.59 1.41.59.51 0 1.02-.2 1.41-.59l7.78-7.78 2.81-2.81c.8-.78.8-2.07 0-2.86zM5.41 20L4 18.59l7.72-7.72 1.47 1.35L5.41 20z\"/>\n",
              "  </svg>\n",
              "      </button>\n",
              "      \n",
              "  <style>\n",
              "    .colab-df-container {\n",
              "      display:flex;\n",
              "      flex-wrap:wrap;\n",
              "      gap: 12px;\n",
              "    }\n",
              "\n",
              "    .colab-df-convert {\n",
              "      background-color: #E8F0FE;\n",
              "      border: none;\n",
              "      border-radius: 50%;\n",
              "      cursor: pointer;\n",
              "      display: none;\n",
              "      fill: #1967D2;\n",
              "      height: 32px;\n",
              "      padding: 0 0 0 0;\n",
              "      width: 32px;\n",
              "    }\n",
              "\n",
              "    .colab-df-convert:hover {\n",
              "      background-color: #E2EBFA;\n",
              "      box-shadow: 0px 1px 2px rgba(60, 64, 67, 0.3), 0px 1px 3px 1px rgba(60, 64, 67, 0.15);\n",
              "      fill: #174EA6;\n",
              "    }\n",
              "\n",
              "    [theme=dark] .colab-df-convert {\n",
              "      background-color: #3B4455;\n",
              "      fill: #D2E3FC;\n",
              "    }\n",
              "\n",
              "    [theme=dark] .colab-df-convert:hover {\n",
              "      background-color: #434B5C;\n",
              "      box-shadow: 0px 1px 3px 1px rgba(0, 0, 0, 0.15);\n",
              "      filter: drop-shadow(0px 1px 2px rgba(0, 0, 0, 0.3));\n",
              "      fill: #FFFFFF;\n",
              "    }\n",
              "  </style>\n",
              "\n",
              "      <script>\n",
              "        const buttonEl =\n",
              "          document.querySelector('#df-fb196703-e657-407a-8b28-923fc907f92d button.colab-df-convert');\n",
              "        buttonEl.style.display =\n",
              "          google.colab.kernel.accessAllowed ? 'block' : 'none';\n",
              "\n",
              "        async function convertToInteractive(key) {\n",
              "          const element = document.querySelector('#df-fb196703-e657-407a-8b28-923fc907f92d');\n",
              "          const dataTable =\n",
              "            await google.colab.kernel.invokeFunction('convertToInteractive',\n",
              "                                                     [key], {});\n",
              "          if (!dataTable) return;\n",
              "\n",
              "          const docLinkHtml = 'Like what you see? Visit the ' +\n",
              "            '<a target=\"_blank\" href=https://colab.research.google.com/notebooks/data_table.ipynb>data table notebook</a>'\n",
              "            + ' to learn more about interactive tables.';\n",
              "          element.innerHTML = '';\n",
              "          dataTable['output_type'] = 'display_data';\n",
              "          await google.colab.output.renderOutput(dataTable, element);\n",
              "          const docLink = document.createElement('div');\n",
              "          docLink.innerHTML = docLinkHtml;\n",
              "          element.appendChild(docLink);\n",
              "        }\n",
              "      </script>\n",
              "    </div>\n",
              "  </div>\n",
              "  "
            ]
          },
          "metadata": {},
          "execution_count": 21
        },
        {
          "output_type": "display_data",
          "data": {
            "text/plain": [
              "<Figure size 432x288 with 2 Axes>"
            ],
            "image/png": "[encoded data removed]"
          },
          "metadata": {
            "needs_background": "light"
          }
        }
      ],
      "source": [
        "clf = RandomForestClassifier(random_state=0)\n",
        "clf.fit(X_train, y_train)\n",
        "evaluate(clf, X_test, y_test, X_train, y_train)"
      ]
    },
    {
      "cell_type": "code",
      "execution_count": 37,
      "metadata": {
        "colab": {
          "base_uri": "https://localhost:8080/"
        },
        "id": "2c89OoIiI5Df",
        "outputId": "5b986070-92c6-4837-d4c3-07845a75e022"
      },
      "outputs": [
        {
          "output_type": "stream",
          "name": "stdout",
          "text": [
            "{'bootstrap': True, 'ccp_alpha': 0.0, 'class_weight': None, 'criterion': 'gini', 'max_depth': None, 'max_features': 'auto', 'max_leaf_nodes': None, 'max_samples': None, 'min_impurity_decrease': 0.0, 'min_samples_leaf': 1, 'min_samples_split': 2, 'min_weight_fraction_leaf': 0.0, 'n_estimators': 100, 'n_jobs': None, 'oob_score': False, 'random_state': 0, 'verbose': 0, 'warm_start': False}\n"
          ]
        }
      ],
      "source": [
        "print(clf.get_params())"
      ]
    },
    {
      "cell_type": "markdown",
      "source": [
        "## Tune Random Forest"
      ],
      "metadata": {
        "id": "yIEYm3xxjiNR"
      }
    },
    {
      "cell_type": "code",
      "source": [
        "val_recall = []\n",
        "train_recall = []\n",
        "tree_depths = []\n",
        "\n",
        "for depth in range(20,200,10):\n",
        "    tree_clf = RandomForestClassifier(max_depth=depth)\n",
        "    tree_clf.fit(X_train,y_train)\n",
        "    y_training_pred = tree_clf.predict(X_train)\n",
        "\n",
        "    training_acc = accuracy_score(y_train,y_training_pred)\n",
        "    train_recall = recall_score(y_train, y_training_pred)\n",
        "    y_test_pred = tree_clf.predict(X_test)\n",
        "    test_val_recall = recall_score(y_test, y_test_pred)\n",
        "    train_val_recall = recall_score(y_train, y_training_pred)\n",
        "    val_recall.append(test_val_recall)\n",
        "    tree_depths.append(depth)\n",
        "    \n",
        "\n",
        "Tuning_Max_depth = {'Train Recall': train_recall,\"Validation Recall\":val_recall, \"Max_Depth\": tree_depths }\n",
        "Tuning_Max_depth_df = pd.DataFrame.from_dict(Tuning_Max_depth)\n",
        "\n",
        "plot_df = Tuning_Max_depth_df.melt('Max_Depth',var_name='Metrics',value_name=\"Values\")\n",
        "fig,ax = plt.subplots(figsize=(15,5))\n",
        "plt.title('Recall Rate change through max_depth for Random Forest')\n",
        "sns.pointplot(x=\"Max_Depth\", y=\"Values\",hue=\"Metrics\", data=plot_df,ax=ax)"
      ],
      "metadata": {
        "colab": {
          "base_uri": "https://localhost:8080/",
          "height": 369
        },
        "id": "zIwGoDwDagrA",
        "outputId": "b8ce2590-0ab2-471d-adf7-4b79219751be"
      },
      "execution_count": 75,
      "outputs": [
        {
          "output_type": "execute_result",
          "data": {
            "text/plain": [
              "<matplotlib.axes._subplots.AxesSubplot at 0x7f5185bf0490>"
            ]
          },
          "metadata": {},
          "execution_count": 75
        },
        {
          "output_type": "display_data",
          "data": {
            "text/plain": [
              "<Figure size 1080x360 with 1 Axes>"
            ],
            "image/png": "[encoded data removed]"
          },
          "metadata": {
            "needs_background": "light"
          }
        }
      ]
    },
    {
      "cell_type": "code",
      "source": [
        "val_recall = []\n",
        "train_recall = []\n",
        "estimator_num_list = []\n",
        "\n",
        "for e_num in range(2,30,2):\n",
        "    tree_clf = RandomForestClassifier(n_estimators=e_num)\n",
        "    tree_clf.fit(X_train,y_train)\n",
        "    y_training_pred = tree_clf.predict(X_train)\n",
        "\n",
        "    training_acc = accuracy_score(y_train,y_training_pred)\n",
        "    train_recall = recall_score(y_train, y_training_pred)\n",
        "    y_test_pred = tree_clf.predict(X_test)\n",
        "    test_val_recall = recall_score(y_test, y_test_pred)\n",
        "    train_val_recall = recall_score(y_train, y_training_pred)\n",
        "    val_recall.append(test_val_recall)\n",
        "    estimator_num_list.append(e_num)\n",
        "    \n",
        "\n",
        "Tuning_Max_depth = {'Train Recall': train_recall,\"Validation Recall\":val_recall, \"N_Estimators\": estimator_num_list }\n",
        "Tuning_Max_depth_df = pd.DataFrame.from_dict(Tuning_Max_depth)\n",
        "\n",
        "plot_df = Tuning_Max_depth_df.melt('N_Estimators',var_name='Metrics',value_name=\"Values\")\n",
        "fig,ax = plt.subplots(figsize=(15,5))\n",
        "plt.title('Recall Rate change through N_Estimators for Random Forest')\n",
        "sns.pointplot(x=\"N_Estimators\", y=\"Values\",hue=\"Metrics\", data=plot_df,ax=ax)"
      ],
      "metadata": {
        "colab": {
          "base_uri": "https://localhost:8080/",
          "height": 369
        },
        "id": "YAAuL_tObTl-",
        "outputId": "96202c73-fc25-4351-9275-6ba857de3ec7"
      },
      "execution_count": 90,
      "outputs": [
        {
          "output_type": "execute_result",
          "data": {
            "text/plain": [
              "<matplotlib.axes._subplots.AxesSubplot at 0x7f518560dd50>"
            ]
          },
          "metadata": {},
          "execution_count": 90
        },
        {
          "output_type": "display_data",
          "data": {
            "text/plain": [
              "<Figure size 1080x360 with 1 Axes>"
            ],
            "image/png": "[encoded data removed]"
          },
          "metadata": {
            "needs_background": "light"
          }
        }
      ]
    },
    {
      "cell_type": "code",
      "source": [
        "val_recall = []\n",
        "train_recall = []\n",
        "min_samples_split = []\n",
        "\n",
        "for split in np.arange(2,30,2):\n",
        "    tree_clf = RandomForestClassifier(min_samples_split=split)\n",
        "    tree_clf.fit(X_train,y_train)\n",
        "    y_training_pred = tree_clf.predict(X_train)\n",
        "\n",
        "    training_acc = accuracy_score(y_train,y_training_pred)\n",
        "    train_recall = recall_score(y_train, y_training_pred)\n",
        "    y_test_pred = tree_clf.predict(X_test)\n",
        "    test_val_recall = recall_score(y_test, y_test_pred)\n",
        "    train_val_recall = recall_score(y_train, y_training_pred)\n",
        "    val_recall.append(test_val_recall)\n",
        "    min_samples_split.append(split)\n",
        "    \n",
        "\n",
        "Tuning_Max_depth = {'Train Recall': train_recall,\"Validation Recall\":val_recall, \"Min_Samples_Split\": min_samples_split }\n",
        "Tuning_Max_depth_df = pd.DataFrame.from_dict(Tuning_Max_depth)\n",
        "\n",
        "plot_df = Tuning_Max_depth_df.melt('Min_Samples_Split',var_name='Metrics',value_name=\"Values\")\n",
        "fig,ax = plt.subplots(figsize=(15,5))\n",
        "plt.title('Recall Rate change through Min_Samples_Split for Random Forest')\n",
        "sns.pointplot(x=\"Min_Samples_Split\", y=\"Values\",hue=\"Metrics\", data=plot_df,ax=ax)"
      ],
      "metadata": {
        "id": "jQhEndwFhUW2"
      },
      "execution_count": null,
      "outputs": []
    },
    {
      "cell_type": "code",
      "source": [
        "val_recall = []\n",
        "train_recall = []\n",
        "max_features = []\n",
        "\n",
        "for feature_num in range(10,60,5):\n",
        "    tree_clf = RandomForestClassifier(max_features=feature_num)\n",
        "    tree_clf.fit(X_train,y_train)\n",
        "    y_training_pred = tree_clf.predict(X_train)\n",
        "\n",
        "    training_acc = accuracy_score(y_train,y_training_pred)\n",
        "    train_recall = recall_score(y_train, y_training_pred)\n",
        "    y_test_pred = tree_clf.predict(X_test)\n",
        "    test_val_recall = recall_score(y_test, y_test_pred)\n",
        "    train_val_recall = recall_score(y_train, y_training_pred)\n",
        "    val_recall.append(test_val_recall)\n",
        "    max_features.append(feature_num)\n",
        "    \n",
        "\n",
        "Tuning_Max_depth = {'Train Recall': train_recall,\"Validation Recall\":val_recall, \"Max_Features\": max_features }\n",
        "Tuning_Max_depth_df = pd.DataFrame.from_dict(Tuning_Max_depth)\n",
        "\n",
        "plot_df = Tuning_Max_depth_df.melt('Max_Features',var_name='Metrics',value_name=\"Values\")\n",
        "fig,ax = plt.subplots(figsize=(15,5))\n",
        "plt.title('Recall Rate change through max_features for Random Forest')\n",
        "sns.pointplot(x=\"Max_Features\", y=\"Values\",hue=\"Metrics\", data=plot_df,ax=ax)"
      ],
      "metadata": {
        "colab": {
          "base_uri": "https://localhost:8080/",
          "height": 369
        },
        "id": "fbM_5A_ics_2",
        "outputId": "8530895e-801a-4af4-feae-2ce95c20484a"
      },
      "execution_count": 89,
      "outputs": [
        {
          "output_type": "execute_result",
          "data": {
            "text/plain": [
              "<matplotlib.axes._subplots.AxesSubplot at 0x7f518554d850>"
            ]
          },
          "metadata": {},
          "execution_count": 89
        },
        {
          "output_type": "display_data",
          "data": {
            "text/plain": [
              "<Figure size 1080x360 with 1 Axes>"
            ],
            "image/png": "[encoded data removed]"
          },
          "metadata": {
            "needs_background": "light"
          }
        }
      ]
    },
    {
      "cell_type": "code",
      "source": [
        "val_recall = []\n",
        "train_recall = []\n",
        "min_sample_leaves = []\n",
        "\n",
        "for leave in range(1,10,1):\n",
        "    tree_clf = RandomForestClassifier(min_samples_leaf=leave)\n",
        "    tree_clf.fit(X_train,y_train)\n",
        "    y_training_pred = tree_clf.predict(X_train)\n",
        "\n",
        "    training_acc = accuracy_score(y_train,y_training_pred)\n",
        "    train_recall = recall_score(y_train, y_training_pred)\n",
        "    y_test_pred = tree_clf.predict(X_test)\n",
        "    test_val_recall = recall_score(y_test, y_test_pred)\n",
        "    train_val_recall = recall_score(y_train, y_training_pred)\n",
        "    val_recall.append(test_val_recall)\n",
        "    min_sample_leaves.append(leave)\n",
        "    \n",
        "\n",
        "Tuning_Max_depth = {'Train Recall': train_recall,\"Validation Recall\":val_recall, \"Min_Samples_Leave\": min_sample_leaves }\n",
        "Tuning_Max_depth_df = pd.DataFrame.from_dict(Tuning_Max_depth)\n",
        "\n",
        "plot_df = Tuning_Max_depth_df.melt('Min_Samples_Leave',var_name='Metrics',value_name=\"Values\")\n",
        "fig,ax = plt.subplots(figsize=(15,5))\n",
        "plt.title('Recall Rate change through min_samples_leave for Random Forest')\n",
        "sns.pointplot(x=\"Min_Samples_Leave\", y=\"Values\",hue=\"Metrics\", data=plot_df,ax=ax)"
      ],
      "metadata": {
        "id": "pik2oFypcC76"
      },
      "execution_count": null,
      "outputs": []
    },
    {
      "cell_type": "markdown",
      "source": [
        "## Recursive Feature Selection(very slow)"
      ],
      "metadata": {
        "id": "VouOmVPIXuu0"
      }
    },
    {
      "cell_type": "code",
      "source": [
        "from sklearn.feature_selection import RFECV\n",
        "\n",
        "# The \"accuracy\" scoring is proportional to the number of correct classifications\n",
        "clf_rf_4 = RandomForestClassifier() \n",
        "rfecv = RFECV(estimator=clf_rf_4, step=1, cv=5,scoring='recall')   #5-fold cross-validation\n",
        "rfecv = rfecv.fit(X_train, y_train)\n",
        "\n",
        "print('Optimal number of features :', rfecv.n_features_)\n",
        "print('Best features :', X_train.columns[rfecv.support_])"
      ],
      "metadata": {
        "id": "W9h0p1YaVVK6"
      },
      "execution_count": null,
      "outputs": []
    },
    {
      "cell_type": "markdown",
      "source": [
        "# Extract knowledge from model"
      ],
      "metadata": {
        "id": "HqMXXobcW99t"
      }
    },
    {
      "cell_type": "code",
      "source": [
        "Rfclf_fea = pd.DataFrame(clf.feature_importances_)\n",
        "Rfclf_fea[\"Feature\"] = list(X_train) \n",
        "Rfclf_fea.sort_values(by=0, ascending=False).head()\n",
        "g = sns.barplot(0,\"Feature\",data = Rfclf_fea.sort_values(by=0, ascending=False)[0:5], palette=\"Pastel1\",orient = \"h\")\n",
        "g.set_xlabel(\"Weight\")\n",
        "g = g.set_title(\"Random Forest\")"
      ],
      "metadata": {
        "colab": {
          "base_uri": "https://localhost:8080/",
          "height": 295
        },
        "id": "LrGrGF15W8Aq",
        "outputId": "2aa1a4a9-cf2a-4623-cd51-3df547d2b836"
      },
      "execution_count": 63,
      "outputs": [
        {
          "output_type": "display_data",
          "data": {
            "text/plain": [
              "<Figure size 432x288 with 1 Axes>"
            ],
            "image/png": "[encoded data removed]"
          },
          "metadata": {
            "needs_background": "light"
          }
        }
      ]
    },
    {
      "cell_type": "code",
      "source": [
        "param = {'criterion': ['entropy', 'gini'],\n",
        "              #  'max_depth': [2],\n",
        "               'max_features': ['auto'],\n",
        "              #  'min_samples_leaf': [0, 1],\n",
        "              #  'min_samples_split': [2, 5, 10],\n",
        "               'n_estimators': [50, 100, 200, 300]}"
      ],
      "metadata": {
        "id": "x2K0UbCYKY8S"
      },
      "execution_count": 59,
      "outputs": []
    },
    {
      "cell_type": "code",
      "execution_count": null,
      "metadata": {
        "id": "m23B3A1VI5Dg"
      },
      "outputs": [],
      "source": [
        "# !pip install tpot\n",
        "from tpot import TPOTClassifier\n",
        "tpot_classifier = TPOTClassifier(generations= 10, population_size= 50, offspring_size= 12,\n",
        "                                 verbosity= 2, early_stop= 12,\n",
        "                                 config_dict={'sklearn.ensemble.RandomForestClassifier': param}, \n",
        "                                 cv = 4, scoring = 'recall')\n",
        "tpot_classifier.fit(X_train,y_train)"
      ]
    },
    {
      "cell_type": "code",
      "source": [
        "evaluate(tpot_classifier, X_test, y_test, X_train, y_train)"
      ],
      "metadata": {
        "colab": {
          "base_uri": "https://localhost:8080/",
          "height": 437
        },
        "id": "OY4FrGycLWDL",
        "outputId": "15a59c36-7e1d-4bde-8068-8c9ecf1a7bfd"
      },
      "execution_count": 58,
      "outputs": [
        {
          "output_type": "execute_result",
          "data": {
            "text/plain": [
              "                Train    Test\n",
              "Recall score   0.4128  0.4000\n",
              "Precision      0.9392  0.9348\n",
              "Roc-auc score  0.8747  0.8586\n",
              "Accuracy       0.9550  0.9540"
            ],
            "text/html": [
              "\n",
              "  <div id=\"df-cd00afd9-9b4c-44e5-97e5-1b641b862b97\">\n",
              "    <div class=\"colab-df-container\">\n",
              "      <div>\n",
              "<style scoped>\n",
              "    .dataframe tbody tr th:only-of-type {\n",
              "        vertical-align: middle;\n",
              "    }\n",
              "\n",
              "    .dataframe tbody tr th {\n",
              "        vertical-align: top;\n",
              "    }\n",
              "\n",
              "    .dataframe thead th {\n",
              "        text-align: right;\n",
              "    }\n",
              "</style>\n",
              "<table border=\"1\" class=\"dataframe\">\n",
              "  <thead>\n",
              "    <tr style=\"text-align: right;\">\n",
              "      <th></th>\n",
              "      <th>Train</th>\n",
              "      <th>Test</th>\n",
              "    </tr>\n",
              "  </thead>\n",
              "  <tbody>\n",
              "    <tr>\n",
              "      <th>Recall score</th>\n",
              "      <td>0.4128</td>\n",
              "      <td>0.4000</td>\n",
              "    </tr>\n",
              "    <tr>\n",
              "      <th>Precision</th>\n",
              "      <td>0.9392</td>\n",
              "      <td>0.9348</td>\n",
              "    </tr>\n",
              "    <tr>\n",
              "      <th>Roc-auc score</th>\n",
              "      <td>0.8747</td>\n",
              "      <td>0.8586</td>\n",
              "    </tr>\n",
              "    <tr>\n",
              "      <th>Accuracy</th>\n",
              "      <td>0.9550</td>\n",
              "      <td>0.9540</td>\n",
              "    </tr>\n",
              "  </tbody>\n",
              "</table>\n",
              "</div>\n",
              "      <button class=\"colab-df-convert\" onclick=\"convertToInteractive('df-cd00afd9-9b4c-44e5-97e5-1b641b862b97')\"\n",
              "              title=\"Convert this dataframe to an interactive table.\"\n",
              "              style=\"display:none;\">\n",
              "        \n",
              "  <svg xmlns=\"http://www.w3.org/2000/svg\" height=\"24px\"viewBox=\"0 0 24 24\"\n",
              "       width=\"24px\">\n",
              "    <path d=\"M0 0h24v24H0V0z\" fill=\"none\"/>\n",
              "    <path d=\"M18.56 5.44l.94 2.06.94-2.06 2.06-.94-2.06-.94-.94-2.06-.94 2.06-2.06.94zm-11 1L8.5 8.5l.94-2.06 2.06-.94-2.06-.94L8.5 2.5l-.94 2.06-2.06.94zm10 10l.94 2.06.94-2.06 2.06-.94-2.06-.94-.94-2.06-.94 2.06-2.06.94z\"/><path d=\"M17.41 7.96l-1.37-1.37c-.4-.4-.92-.59-1.43-.59-.52 0-1.04.2-1.43.59L10.3 9.45l-7.72 7.72c-.78.78-.78 2.05 0 2.83L4 21.41c.39.39.9.59 1.41.59.51 0 1.02-.2 1.41-.59l7.78-7.78 2.81-2.81c.8-.78.8-2.07 0-2.86zM5.41 20L4 18.59l7.72-7.72 1.47 1.35L5.41 20z\"/>\n",
              "  </svg>\n",
              "      </button>\n",
              "      \n",
              "  <style>\n",
              "    .colab-df-container {\n",
              "      display:flex;\n",
              "      flex-wrap:wrap;\n",
              "      gap: 12px;\n",
              "    }\n",
              "\n",
              "    .colab-df-convert {\n",
              "      background-color: #E8F0FE;\n",
              "      border: none;\n",
              "      border-radius: 50%;\n",
              "      cursor: pointer;\n",
              "      display: none;\n",
              "      fill: #1967D2;\n",
              "      height: 32px;\n",
              "      padding: 0 0 0 0;\n",
              "      width: 32px;\n",
              "    }\n",
              "\n",
              "    .colab-df-convert:hover {\n",
              "      background-color: #E2EBFA;\n",
              "      box-shadow: 0px 1px 2px rgba(60, 64, 67, 0.3), 0px 1px 3px 1px rgba(60, 64, 67, 0.15);\n",
              "      fill: #174EA6;\n",
              "    }\n",
              "\n",
              "    [theme=dark] .colab-df-convert {\n",
              "      background-color: #3B4455;\n",
              "      fill: #D2E3FC;\n",
              "    }\n",
              "\n",
              "    [theme=dark] .colab-df-convert:hover {\n",
              "      background-color: #434B5C;\n",
              "      box-shadow: 0px 1px 3px 1px rgba(0, 0, 0, 0.15);\n",
              "      filter: drop-shadow(0px 1px 2px rgba(0, 0, 0, 0.3));\n",
              "      fill: #FFFFFF;\n",
              "    }\n",
              "  </style>\n",
              "\n",
              "      <script>\n",
              "        const buttonEl =\n",
              "          document.querySelector('#df-cd00afd9-9b4c-44e5-97e5-1b641b862b97 button.colab-df-convert');\n",
              "        buttonEl.style.display =\n",
              "          google.colab.kernel.accessAllowed ? 'block' : 'none';\n",
              "\n",
              "        async function convertToInteractive(key) {\n",
              "          const element = document.querySelector('#df-cd00afd9-9b4c-44e5-97e5-1b641b862b97');\n",
              "          const dataTable =\n",
              "            await google.colab.kernel.invokeFunction('convertToInteractive',\n",
              "                                                     [key], {});\n",
              "          if (!dataTable) return;\n",
              "\n",
              "          const docLinkHtml = 'Like what you see? Visit the ' +\n",
              "            '<a target=\"_blank\" href=https://colab.research.google.com/notebooks/data_table.ipynb>data table notebook</a>'\n",
              "            + ' to learn more about interactive tables.';\n",
              "          element.innerHTML = '';\n",
              "          dataTable['output_type'] = 'display_data';\n",
              "          await google.colab.output.renderOutput(dataTable, element);\n",
              "          const docLink = document.createElement('div');\n",
              "          docLink.innerHTML = docLinkHtml;\n",
              "          element.appendChild(docLink);\n",
              "        }\n",
              "      </script>\n",
              "    </div>\n",
              "  </div>\n",
              "  "
            ]
          },
          "metadata": {},
          "execution_count": 58
        },
        {
          "output_type": "display_data",
          "data": {
            "text/plain": [
              "<Figure size 432x288 with 2 Axes>"
            ],
            "image/png": "[encoded data removed]"
          },
          "metadata": {
            "needs_background": "light"
          }
        }
      ]
    }
  ],
  "metadata": {
    "interpreter": {
      "hash": "e3e23ee25cf188c84b50feb86f0a583fe6bfcb5459be44b7a01060e833fcb159"
    },
    "kernelspec": {
      "display_name": "Python 3.9.10 ('.venv': venv)",
      "language": "python",
      "name": "python3"
    },
    "language_info": {
      "codemirror_mode": {
        "name": "ipython",
        "version": 3
      },
      "file_extension": ".py",
      "mimetype": "text/x-python",
      "name": "python",
      "nbconvert_exporter": "python",
      "pygments_lexer": "ipython3",
      "version": "3.9.10"
    },
    "orig_nbformat": 4,
    "colab": {
      "name": "rf.ipynb",
      "provenance": [],
      "collapsed_sections": []
    }
  },
  "nbformat": 4,
  "nbformat_minor": 0
}
